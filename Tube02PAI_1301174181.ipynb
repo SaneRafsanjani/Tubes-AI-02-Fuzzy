{
  "nbformat": 4,
  "nbformat_minor": 0,
  "metadata": {
    "colab": {
      "name": "Tube02PAI_1301174181.ipynb",
      "provenance": [],
      "collapsed_sections": []
    },
    "kernelspec": {
      "name": "python3",
      "display_name": "Python 3"
    }
  },
  "cells": [
    {
      "cell_type": "code",
      "metadata": {
        "id": "pteu6d2Ymtgc"
      },
      "source": [
        "import pandas as pd\n",
        "# Membaca Excel file menggunakan Pandas and mengembalikan list\n",
        "def readExcel():\n",
        "    baca = pd.read_excel(r'Mahasiswa.xls')\n",
        "    income = baca['Penghasilan'].tolist()\n",
        "    spending = baca['Pengeluaran'].tolist()\n",
        "    return income,spending"
      ],
      "execution_count": 1,
      "outputs": []
    },
    {
      "cell_type": "code",
      "metadata": {
        "id": "dzCsy4tw7Gkm"
      },
      "source": [
        "def writeExcel(data):\n",
        "    df = pd.DataFrame(data) \n",
        "    writer = pd.ExcelWriter('Bantuan.xls')\n",
        "    df.to_excel(writer, sheet_name ='Sheet1')\n",
        "    writer.save()\n",
        "    print(\"Bantuan.xls is Done\")"
      ],
      "execution_count": 2,
      "outputs": []
    },
    {
      "cell_type": "code",
      "metadata": {
        "id": "RYVw_b967Mqv"
      },
      "source": [
        "# step 1 Fuzzification\n",
        "# Fungsi nilai Linguistik\n",
        "def F_linguistic(p,q,r,s):\n",
        "    return (p-q)/(r-s)"
      ],
      "execution_count": 3,
      "outputs": []
    },
    {
      "cell_type": "code",
      "metadata": {
        "id": "ann1CwMD7MuI"
      },
      "source": [
        "h=[1,5,7,9,11,21]\n",
        "\n",
        "# Proses pengklasifikasian nilai penghasilan brdasarkan 3 nilai yaitu rendah,sedang,tinggi\n",
        "def revenue(penghasilan):\n",
        "    if (penghasilan >= h[0] and penghasilan <= h[1]):\n",
        "        rendah = 1\n",
        "        sedang = 0\n",
        "        tinggi = 0\n",
        "    elif (penghasilan > h[1] and penghasilan < h[2]):\n",
        "        rendah = F_linguistic(7,penghasilan,7,5)\n",
        "        sedang = F_linguistic(penghasilan,5,7,5)\n",
        "        tinggi = 0\n",
        "    elif (penghasilan >= h[2] and penghasilan <= h[3]):\n",
        "        rendah = 0\n",
        "        sedang = 1\n",
        "        tinggi = 0\n",
        "    elif (penghasilan > h[3] and penghasilan < h[4]):\n",
        "        rendah = 0\n",
        "        sedang = F_linguistic(11,penghasilan,11,9)\n",
        "        tinggi = F_linguistic(penghasilan,9,11,9)\n",
        "    elif (penghasilan > h[4] and penghasilan < h[5]):\n",
        "        rendah = 0\n",
        "        sedang = 0\n",
        "        tinggi = 1\n",
        "    return rendah,sedang,tinggi"
      ],
      "execution_count": 4,
      "outputs": []
    },
    {
      "cell_type": "code",
      "metadata": {
        "id": "A8lozICJ7Mx2"
      },
      "source": [
        "x = [1,5,6,8,10,14]\n",
        "\n",
        "# Proses pengklasifikasian nilai pengeluaran brdasarkan 3 nilai yaitu kecil,rata,besar\n",
        "def expenditure(pengeluaran):\n",
        "    if (pengeluaran >= x[0] and pengeluaran <= x[1]):\n",
        "        kecil = 1\n",
        "        rata = 0\n",
        "        besar = 0\n",
        "    elif (pengeluaran > x[1] and pengeluaran <= x[2]):\n",
        "        kecil = F_linguistic(6,pengeluaran,6,5)\n",
        "        rata  =  F_linguistic(pengeluaran,5,6,5)\n",
        "        besar = 0\n",
        "    elif (pengeluaran >= x[2] and pengeluaran <= x[3]):\n",
        "        kecil = 0\n",
        "        rata = 1\n",
        "        besar = 0\n",
        "    elif (pengeluaran > x[3] and pengeluaran < x[4]):\n",
        "        kecil = 0\n",
        "        rata  = F_linguistic(10,pengeluaran,10,8)\n",
        "        besar = F_linguistic(pengeluaran,8,10,8)\n",
        "    elif (pengeluaran >= x[4] and pengeluaran <= x[5]):\n",
        "        kecil = 0\n",
        "        rata = 0\n",
        "        besar = 1\n",
        "    return kecil,rata,besar"
      ],
      "execution_count": 5,
      "outputs": []
    },
    {
      "cell_type": "code",
      "metadata": {
        "id": "JgHtOmvC7M3P"
      },
      "source": [
        "# Inferensi\n",
        "def FR(rendah,sedang,tinggi,kecil,rata,besar):\n",
        "    if(0<rendah<=1 and 0<kecil<=1):\n",
        "        iya = rendah\n",
        "        tidak = 0\n",
        "    elif (0<rendah<=1 and 0<rata<=1):\n",
        "        iya = rendah\n",
        "        tidak = 0\n",
        "    elif (0<rendah<=1 and 0<besar<=1):\n",
        "        iya = rendah\n",
        "        no = 0\n",
        "    elif (0<sedang<=1 and 0<kecil<=1):\n",
        "        iya = 0\n",
        "        tidak = sedang\n",
        "    elif (0<sedang<=1 and 0<rata<=1):\n",
        "        iya = 0\n",
        "        tidak = sedang\n",
        "    elif (0<sedang<=1 and 0<besar<=1):\n",
        "        iya = sedang\n",
        "        tidak = 0\n",
        "    elif (0<tinggi<=1 and 0<kecil<=1):\n",
        "        iya = 0\n",
        "        tidak = tinggi\n",
        "    elif (0<tinggi<=1 and 0<rata<=1):\n",
        "        iya = 0\n",
        "        tidak = tinggi\n",
        "    elif (0<tinggi<=1 and 0<besar<=1):\n",
        "        iya = tinggi\n",
        "        tidak = 0\n",
        "    return iya,tidak"
      ],
      "execution_count": 6,
      "outputs": []
    },
    {
      "cell_type": "code",
      "metadata": {
        "id": "IlVetMmR7M7W"
      },
      "source": [
        "# Defuzzification dengan Sugeno Method\n",
        "def defuzzyfication_sugeno(iya,tidak):\n",
        "    n_diterima = 85\n",
        "    n_ditolak = 55\n",
        "    total = iya+tidak\n",
        "    return (iya*n_diterima)+(tidak*n_ditolak)/total"
      ],
      "execution_count": 7,
      "outputs": []
    },
    {
      "cell_type": "code",
      "metadata": {
        "colab": {
          "base_uri": "https://localhost:8080/"
        },
        "id": "IfLt0RfF7iSz",
        "outputId": "a3ca6b23-8dd1-48b7-a029-13a97f252613"
      },
      "source": [
        "hasil = []\n",
        "j = 1\n",
        "income,spending = readExcel()\n",
        "for i in range(100):\n",
        "    # proses Fuzzification\n",
        "    rendah,sedang,tinggi = revenue(float(income[i]))\n",
        "    kecil,rata,besar = expenditure(float(spending[i]))\n",
        "     \n",
        "    iya,tidak = FR(rendah,sedang,tinggi,kecil,rata,besar)\n",
        "    n_fuzzy = defuzzyfication_sugeno(iya,tidak)\n",
        "    print(\"sugeno ke-\",i,\" : \",n_fuzzy)\n",
        "    #print(\"====================\")\n",
        "    #print(\"====================\")\n",
        "    #print(\"====================\")\n",
        "    if(n_fuzzy>= 79 and j<= 20):\n",
        "        hasil.insert(j,i)\n",
        "        j += 1\n",
        "print(hasil)\n",
        "writeExcel(hasil)\n",
        "#print(\"====================\")"
      ],
      "execution_count": 8,
      "outputs": [
        {
          "output_type": "stream",
          "text": [
            "sugeno ke- 0  :  55.0\n",
            "sugeno ke- 1  :  55.0\n",
            "sugeno ke- 2  :  85.0\n",
            "sugeno ke- 3  :  55.0\n",
            "sugeno ke- 4  :  55.0\n",
            "sugeno ke- 5  :  55.0\n",
            "sugeno ke- 6  :  55.0\n",
            "sugeno ke- 7  :  55.0\n",
            "sugeno ke- 8  :  85.0\n",
            "sugeno ke- 9  :  55.0\n",
            "sugeno ke- 10  :  51.84999999999999\n",
            "sugeno ke- 11  :  55.0\n",
            "sugeno ke- 12  :  61.62500000000001\n",
            "sugeno ke- 13  :  55.0\n",
            "sugeno ke- 14  :  55.0\n",
            "sugeno ke- 15  :  55.0\n",
            "sugeno ke- 16  :  55.0\n",
            "sugeno ke- 17  :  55.0\n",
            "sugeno ke- 18  :  55.0\n",
            "sugeno ke- 19  :  55.0\n",
            "sugeno ke- 20  :  55.0\n",
            "sugeno ke- 21  :  55.0\n",
            "sugeno ke- 22  :  55.0\n",
            "sugeno ke- 23  :  85.0\n",
            "sugeno ke- 24  :  22.09999999999998\n",
            "sugeno ke- 25  :  55.0\n",
            "sugeno ke- 26  :  55.0\n",
            "sugeno ke- 27  :  55.0\n",
            "sugeno ke- 28  :  85.0\n",
            "sugeno ke- 29  :  55.0\n",
            "sugeno ke- 30  :  55.0\n",
            "sugeno ke- 31  :  55.0\n",
            "sugeno ke- 32  :  85.0\n",
            "sugeno ke- 33  :  55.0\n",
            "sugeno ke- 34  :  55.0\n",
            "sugeno ke- 35  :  55.0\n",
            "sugeno ke- 36  :  55.0\n",
            "sugeno ke- 37  :  45.05000000000002\n",
            "sugeno ke- 38  :  55.0\n",
            "sugeno ke- 39  :  55.0\n",
            "sugeno ke- 40  :  85.0\n",
            "sugeno ke- 41  :  85.0\n",
            "sugeno ke- 42  :  85.0\n",
            "sugeno ke- 43  :  55.0\n",
            "sugeno ke- 44  :  55.0\n",
            "sugeno ke- 45  :  60.349999999999994\n",
            "sugeno ke- 46  :  54.99999999999999\n",
            "sugeno ke- 47  :  55.0\n",
            "sugeno ke- 48  :  62.90000000000002\n",
            "sugeno ke- 49  :  71.82499999999997\n",
            "sugeno ke- 50  :  55.0\n",
            "sugeno ke- 51  :  55.0\n",
            "sugeno ke- 52  :  55.0\n",
            "sugeno ke- 53  :  55.0\n",
            "sugeno ke- 54  :  55.0\n",
            "sugeno ke- 55  :  55.0\n",
            "sugeno ke- 56  :  85.0\n",
            "sugeno ke- 57  :  85.0\n",
            "sugeno ke- 58  :  55.0\n",
            "sugeno ke- 59  :  55.0\n",
            "sugeno ke- 60  :  55.0\n",
            "sugeno ke- 61  :  85.0\n",
            "sugeno ke- 62  :  54.99999999999999\n",
            "sugeno ke- 63  :  85.0\n",
            "sugeno ke- 64  :  85.0\n",
            "sugeno ke- 65  :  54.99999999999999\n",
            "sugeno ke- 66  :  55.0\n",
            "sugeno ke- 67  :  55.0\n",
            "sugeno ke- 68  :  48.450000000000024\n",
            "sugeno ke- 69  :  55.0\n",
            "sugeno ke- 70  :  55.0\n",
            "sugeno ke- 71  :  55.0\n",
            "sugeno ke- 72  :  55.0\n",
            "sugeno ke- 73  :  55.0\n",
            "sugeno ke- 74  :  81.17500000000001\n",
            "sugeno ke- 75  :  55.0\n",
            "sugeno ke- 76  :  55.0\n",
            "sugeno ke- 77  :  55.0\n",
            "sugeno ke- 78  :  85.0\n",
            "sugeno ke- 79  :  55.0\n",
            "sugeno ke- 80  :  55.00000000000001\n",
            "sugeno ke- 81  :  85.0\n",
            "sugeno ke- 82  :  85.0\n",
            "sugeno ke- 83  :  55.0\n",
            "sugeno ke- 84  :  55.0\n",
            "sugeno ke- 85  :  55.0\n",
            "sugeno ke- 86  :  55.0\n",
            "sugeno ke- 87  :  55.0\n",
            "sugeno ke- 88  :  55.0\n",
            "sugeno ke- 89  :  55.0\n",
            "sugeno ke- 90  :  55.0\n",
            "sugeno ke- 91  :  55.0\n",
            "sugeno ke- 92  :  55.0\n",
            "sugeno ke- 93  :  82.02499999999999\n",
            "sugeno ke- 94  :  55.0\n",
            "sugeno ke- 95  :  85.0\n",
            "sugeno ke- 96  :  55.0\n",
            "sugeno ke- 97  :  85.0\n",
            "sugeno ke- 98  :  49.724999999999994\n",
            "sugeno ke- 99  :  55.0\n",
            "[2, 8, 23, 28, 32, 40, 41, 42, 56, 57, 61, 63, 64, 74, 78, 81, 82, 93, 95, 97]\n",
            "Bantuan.xls is Done\n"
          ],
          "name": "stdout"
        }
      ]
    }
  ]
}